{
  "nbformat": 4,
  "nbformat_minor": 0,
  "metadata": {
    "colab": {
      "provenance": [],
      "authorship_tag": "ABX9TyPecXrzdMsNbtvHeVIqR4Ye",
      "include_colab_link": true
    },
    "kernelspec": {
      "name": "python3",
      "display_name": "Python 3"
    },
    "language_info": {
      "name": "python"
    }
  },
  "cells": [
    {
      "cell_type": "markdown",
      "metadata": {
        "id": "view-in-github",
        "colab_type": "text"
      },
      "source": [
        "<a href=\"https://colab.research.google.com/github/Hemantpatidar1/Task2-and-Task3-Cyber-wave-/blob/main/Hemant.ipynb\" target=\"_parent\"><img src=\"https://colab.research.google.com/assets/colab-badge.svg\" alt=\"Open In Colab\"/></a>"
      ]
    },
    {
      "cell_type": "code",
      "execution_count": null,
      "metadata": {
        "colab": {
          "base_uri": "https://localhost:8080/",
          "height": 859
        },
        "id": "dj56_2g-H7Zd",
        "outputId": "4ee075aa-62fc-417a-9082-e39ea83d32ac"
      },
      "outputs": [
        {
          "output_type": "stream",
          "name": "stdout",
          "text": [
            "   id event  dateStamp  timeStamp voyage_From      lat       lon  imo_num  \\\n",
            "0   1  SOSP      43831   0.708333      Port A  34.0522 -118.2437  9434761   \n",
            "1   2  EOSP      43831   0.791667      Port A  34.0522 -118.2437  9434761   \n",
            "2   3  SOSP      43832   0.333333      Port B  36.7783 -119.4179  9434761   \n",
            "3   4  EOSP      43832   0.583333      Port B  36.7783 -119.4179  9434761   \n",
            "\n",
            "  voyage_Id allocatedVoyageId prev_event  prev_lat  prev_lon  prev_dateStamp  \\\n",
            "0         6              None       None       NaN       NaN             NaN   \n",
            "1         6              None       SOSP   34.0522 -118.2437         43831.0   \n",
            "2         6              None       EOSP   34.0522 -118.2437         43831.0   \n",
            "3         6              None       SOSP   36.7783 -119.4179         43832.0   \n",
            "\n",
            "   prev_timeStamp  distance_travelled  sailing_time  port_stay_duration  \n",
            "0             NaN                 NaN           NaN                 NaN  \n",
            "1        0.708333                 NaN           NaN            2.000016  \n",
            "2        0.791667          173.463038     12.999984                 NaN  \n",
            "3        0.333333                 NaN           NaN            6.000000  \n"
          ]
        },
        {
          "output_type": "display_data",
          "data": {
            "text/plain": [
              "<Figure size 1200x600 with 1 Axes>"
            ],
            "image/png": "[encoded data removed]"
          },
          "metadata": {}
        }
      ],
      "source": [
        "import pandas as pd\n",
        "import numpy as np\n",
        "from math import radians, sin, cos, sqrt, atan2\n",
        "import matplotlib.pyplot as plt\n",
        "\n",
        "\n",
        "data = {\n",
        "    'id': [1, 2, 3, 4],\n",
        "    'event': ['SOSP', 'EOSP', 'SOSP', 'EOSP'],\n",
        "    'dateStamp': [43831, 43831, 43832, 43832],\n",
        "    'timeStamp': [0.708333, 0.791667, 0.333333, 0.583333],\n",
        "    'voyage_From': ['Port A', 'Port A', 'Port B', 'Port B'],\n",
        "    'lat': [34.0522, 34.0522, 36.7783, 36.7783],\n",
        "    'lon': [-118.2437, -118.2437, -119.4179, -119.4179],\n",
        "    'imo_num': ['9434761', '9434761', '9434761', '9434761'],\n",
        "    'voyage_Id': ['6', '6', '6', '6'],\n",
        "    'allocatedVoyageId': [None, None, None, None]\n",
        "}\n",
        "\n",
        "\n",
        "df = pd.DataFrame(data)\n",
        "\n",
        "\n",
        "def calculate_distance(lat1, lon1, lat2, lon2):\n",
        "    R = 6371.0\n",
        "    lat1, lon1, lat2, lon2 = map(radians, [lat1, lon1, lat2, lon2])\n",
        "    dlon = lon2 - lon1\n",
        "    dlat = lat2 - lat1\n",
        "    a = sin(dlat / 2)**2 + cos(lat1) * cos(lat2) * sin(dlon / 2)**2\n",
        "    c = 2 * atan2(sqrt(a), sqrt(1 - a))\n",
        "    distance = R * c / 1.852\n",
        "    return distance\n",
        "\n",
        "\n",
        "df['prev_event'] = df['event'].shift(1)\n",
        "df['prev_lat'] = df['lat'].shift(1)\n",
        "df['prev_lon'] = df['lon'].shift(1)\n",
        "df['prev_dateStamp'] = df['dateStamp'].shift(1)\n",
        "df['prev_timeStamp'] = df['timeStamp'].shift(1)\n",
        "\n",
        "# Calculate distances and times\n",
        "df['distance_travelled'] = df.apply(lambda row: calculate_distance(row['lat'], row['lon'], row['prev_lat'], row['prev_lon'])\n",
        "                                    if row['prev_event'] == 'EOSP' and row['event'] == 'SOSP' else None, axis=1)\n",
        "df['sailing_time'] = df.apply(lambda row: ((row['dateStamp'] - row['prev_dateStamp']) * 24 + (row['timeStamp'] - row['prev_timeStamp']) * 24)\n",
        "                              if row['prev_event'] == 'EOSP' and row['event'] == 'SOSP' else None, axis=1)\n",
        "df['port_stay_duration'] = df.apply(lambda row: ((row['dateStamp'] - row['prev_dateStamp']) * 24 + (row['timeStamp'] - row['prev_timeStamp']) * 24)\n",
        "                                    if row['prev_event'] == 'SOSP' and row['event'] == 'EOSP' else None, axis=1)\n",
        "\n",
        "\n",
        "print(df)\n",
        "\n",
        "\n",
        "df['timestamp'] = pd.to_datetime(df['dateStamp'], origin='1899-12-30') + pd.to_timedelta(df['timeStamp'], unit='D')\n",
        "plt.figure(figsize=(12, 6))\n",
        "for index, row in df.iterrows():\n",
        "    plt.plot([row['timestamp'], row['timestamp']], [0, 1], label=row['event'])\n",
        "\n",
        "plt.xlabel('Time')\n",
        "plt.ylabel('Event')\n",
        "plt.title('Voyage Timeline')\n",
        "plt.legend(loc='upper right')\n",
        "plt.show()\n",
        "\n"
      ]
    },
    {
      "cell_type": "code",
      "source": [],
      "metadata": {
        "id": "7sDWr_nzC785"
      },
      "execution_count": null,
      "outputs": []
    },
    {
      "cell_type": "code",
      "source": [
        "import pandas as pd\n",
        "import numpy as np\n",
        "from scipy import stats\n",
        "\n",
        "\n",
        "data = {\n",
        "    'transaction_id': ['TRX001', 'TRX002', 'TRX003', 'TRX004', 'TRX005', 'TRX006', 'TRX007'],\n",
        "    'date': ['2024-06-01', '2024-06-01', '2024-06-01', '2024-06-02', '2024-06-02', '2024-06-03', '2024-06-03'],\n",
        "    'category': ['Food', 'Utilities', 'Entertainment', 'Food', 'Transport', 'Utilities', 'Food'],\n",
        "    'amount': [25.00, 150.00, 200.00, 3000.00, 45.00, 135.00, 20.00]\n",
        "}\n",
        "\n",
        "\n",
        "df = pd.DataFrame(data)\n",
        "\n",
        "\n",
        "df['date'] = pd.to_datetime(df['date'])\n",
        "\n",
        "def detect_anomalies(df, threshold=3):\n",
        "    anomalies = []\n",
        "    for category in df['category'].unique():\n",
        "        category_df = df[df['category'] == category]\n",
        "\n",
        "\n",
        "        mean = category_df['amount'].mean()\n",
        "        std = category_df['amount'].std()\n",
        "\n",
        "\n",
        "        print(f\"Category: {category}\")\n",
        "        print(f\"Mean: {mean}\")\n",
        "        print(f\"Standard Deviation: {std}\")\n",
        "\n",
        "        if std == 0:\n",
        "            continue\n",
        "\n",
        "\n",
        "        z_scores = (category_df['amount'] - mean) / std\n",
        "\n",
        "\n",
        "        print(f\"Z-scores:\\n{z_scores}\")\n",
        "\n",
        "        category_anomalies = category_df[np.abs(z_scores) > threshold]\n",
        "        for index, row in category_anomalies.iterrows():\n",
        "            anomalies.append({\n",
        "                'transaction_id': row['transaction_id'],\n",
        "                'date': row['date'].strftime('%Y-%m-%d'),\n",
        "                'category': row['category'],\n",
        "                'amount': row['amount'],\n",
        "                'reason_for_anomaly': f'{z_scores.loc[index]:.2f} standard deviations from the mean'\n",
        "            })\n",
        "    return anomalies\n",
        "\n",
        "anomalies = detect_anomalies(df, threshold=3)\n",
        "\n",
        "\n",
        "if anomalies:\n",
        "    for anomaly in anomalies:\n",
        "        print(anomaly)\n",
        "else:\n",
        "    print(\"No anomalies detected\")\n",
        "\n",
        "\n",
        "report = pd.DataFrame(anomalies)\n",
        "print(report)\n"
      ],
      "metadata": {
        "colab": {
          "base_uri": "https://localhost:8080/"
        },
        "id": "p6M-McY7KTB-",
        "outputId": "d36a06cb-32d3-48f8-d22b-621c852f442e"
      },
      "execution_count": null,
      "outputs": [
        {
          "output_type": "stream",
          "name": "stdout",
          "text": [
            "Category: Food\n",
            "Mean: 1015.0\n",
            "Standard Deviation: 1719.0622443646419\n",
            "Z-scores:\n",
            "0   -0.575895\n",
            "3    1.154699\n",
            "6   -0.578804\n",
            "Name: amount, dtype: float64\n",
            "Category: Utilities\n",
            "Mean: 142.5\n",
            "Standard Deviation: 10.606601717798213\n",
            "Z-scores:\n",
            "1    0.707107\n",
            "5   -0.707107\n",
            "Name: amount, dtype: float64\n",
            "Category: Entertainment\n",
            "Mean: 200.0\n",
            "Standard Deviation: nan\n",
            "Z-scores:\n",
            "2   NaN\n",
            "Name: amount, dtype: float64\n",
            "Category: Transport\n",
            "Mean: 45.0\n",
            "Standard Deviation: nan\n",
            "Z-scores:\n",
            "4   NaN\n",
            "Name: amount, dtype: float64\n",
            "No anomalies detected\n",
            "Empty DataFrame\n",
            "Columns: []\n",
            "Index: []\n"
          ]
        }
      ]
    },
    {
      "cell_type": "code",
      "source": [
        "import pandas as pd\n",
        "import numpy as np\n",
        "\n",
        "\n",
        "data = {\n",
        "    'transaction_id': ['TRX001', 'TRX002', 'TRX003', 'TRX004', 'TRX005', 'TRX006', 'TRX007'],\n",
        "    'date': ['2024-06-01', '2024-06-01', '2024-06-01', '2024-06-02', '2024-06-02', '2024-06-03', '2024-06-03'],\n",
        "    'category': ['Food', 'Utilities', 'Entertainment', 'Food', 'Transport', 'Utilities', 'Food'],\n",
        "    'amount': [25.00, 150.00, 200.00, 3000.00, 45.00, 135.00, 20.00]\n",
        "}\n",
        "\n",
        "\n",
        "df = pd.DataFrame(data)\n",
        "\n",
        "\n",
        "df['date'] = pd.to_datetime(df['date'])\n",
        "\n",
        "\n",
        "def detect_anomalies(df, threshold=3):\n",
        "    anomalies = []\n",
        "    for category in df['category'].unique():\n",
        "        category_df = df[df['category'] == category]\n",
        "\n",
        "        mean = category_df['amount'].mean()\n",
        "        std = category_df['amount'].std()\n",
        "\n",
        "        print(f'Category: {category}, Mean: {mean}, Std: {std}')\n",
        "\n",
        "        if np.isnan(std):\n",
        "            print(f'Skipping category {category} due to NaN std')\n",
        "            continue\n",
        "\n",
        "        category_df.loc[:, 'z_score'] = (category_df['amount'] - mean) / std\n",
        "\n",
        "        category_anomalies = category_df[np.abs(category_df['z_score']) > threshold]\n",
        "        for index, row in category_anomalies.iterrows():\n",
        "            reason = f\"{row['z_score']:.2f} standard deviations from the mean\"\n",
        "            anomalies.append({\n",
        "                'transaction_id': row['transaction_id'],\n",
        "                'date': row['date'].strftime('%Y-%m-%d'),\n",
        "                'category': row['category'],\n",
        "                'amount': row['amount'],\n",
        "                'reason_for_anomaly': reason\n",
        "            })\n",
        "    return anomalies\n",
        "\n",
        "anomalies = detect_anomalies(df, threshold=3)\n",
        "\n",
        "\n",
        "report = pd.DataFrame(anomalies)\n",
        "if not report.empty:\n",
        "    print(report.to_string(index=False))\n",
        "else:\n",
        "    print(\"No anomalies detected\")\n",
        "\n",
        "\n"
      ],
      "metadata": {
        "colab": {
          "base_uri": "https://localhost:8080/"
        },
        "id": "8-le2aCzNBxF",
        "outputId": "7da91e0f-4286-4923-ad7e-a895d3c03ead"
      },
      "execution_count": null,
      "outputs": [
        {
          "output_type": "stream",
          "name": "stdout",
          "text": [
            "Category: Food, Mean: 1015.0, Std: 1719.0622443646419\n",
            "Category: Utilities, Mean: 142.5, Std: 10.606601717798213\n",
            "Category: Entertainment, Mean: 200.0, Std: nan\n",
            "Skipping category Entertainment due to NaN std\n",
            "Category: Transport, Mean: 45.0, Std: nan\n",
            "Skipping category Transport due to NaN std\n",
            "No anomalies detected\n"
          ]
        },
        {
          "output_type": "stream",
          "name": "stderr",
          "text": [
            "<ipython-input-10-991b1cb479df>:37: SettingWithCopyWarning: \n",
            "A value is trying to be set on a copy of a slice from a DataFrame.\n",
            "Try using .loc[row_indexer,col_indexer] = value instead\n",
            "\n",
            "See the caveats in the documentation: https://pandas.pydata.org/pandas-docs/stable/user_guide/indexing.html#returning-a-view-versus-a-copy\n",
            "  category_df.loc[:, 'z_score'] = (category_df['amount'] - mean) / std\n",
            "<ipython-input-10-991b1cb479df>:37: SettingWithCopyWarning: \n",
            "A value is trying to be set on a copy of a slice from a DataFrame.\n",
            "Try using .loc[row_indexer,col_indexer] = value instead\n",
            "\n",
            "See the caveats in the documentation: https://pandas.pydata.org/pandas-docs/stable/user_guide/indexing.html#returning-a-view-versus-a-copy\n",
            "  category_df.loc[:, 'z_score'] = (category_df['amount'] - mean) / std\n"
          ]
        }
      ]
    },
    {
      "cell_type": "code",
      "source": [
        "import pandas as pd\n",
        "\n",
        "\n",
        "data = {\n",
        "    'transaction_id': ['TRX001', 'TRX002', 'TRX003', 'TRX004', 'TRX005', 'TRX006', 'TRX007'],\n",
        "    'date': ['2024-06-01', '2024-06-01', '2024-06-01', '2024-06-02', '2024-06-02', '2024-06-03', '2024-06-03'],\n",
        "    'category': ['Food', 'Utilities', 'Entertainment', 'Food', 'Transport', 'Utilities', 'Food'],\n",
        "    'amount': [25.00, 150.00, 200.00, 3000.00, 45.00, 135.00, 20.00]\n",
        "}\n",
        "\n",
        "df = pd.DataFrame(data)\n",
        "\n",
        "category_stats = df.groupby('category')['amount'].agg(['mean', 'std'])\n",
        "\n",
        "category_stats['threshold'] = category_stats['mean'] + 5 * category_stats['std']\n",
        "\n",
        "def detect_anomalies(row):\n",
        "    category = row['category']\n",
        "    amount = row['amount']\n",
        "    threshold = category_stats.loc[category, 'threshold']\n",
        "\n",
        "    if amount > threshold:\n",
        "        return True\n",
        "    else:\n",
        "        return False\n",
        "\n",
        "\n",
        "df['is_anomaly'] = df.apply(detect_anomalies, axis=1)\n",
        "\n",
        "print(df)\n",
        "\n",
        "anomalies = df[df['is_anomaly']]\n",
        "\n",
        "if anomalies.empty:\n",
        "    print(\"No anomalies detected\")\n",
        "else:\n",
        "    print(\"Anomalies detected:\")\n",
        "    print(anomalies[['transaction_id', 'date', 'category', 'amount']])\n"
      ],
      "metadata": {
        "colab": {
          "base_uri": "https://localhost:8080/"
        },
        "id": "7pfAGWDXRV3v",
        "outputId": "cf077039-81b7-4e30-ca79-5c9bca664ce9"
      },
      "execution_count": null,
      "outputs": [
        {
          "output_type": "stream",
          "name": "stdout",
          "text": [
            "  transaction_id        date       category  amount  is_anomaly\n",
            "0         TRX001  2024-06-01           Food    25.0       False\n",
            "1         TRX002  2024-06-01      Utilities   150.0       False\n",
            "2         TRX003  2024-06-01  Entertainment   200.0       False\n",
            "3         TRX004  2024-06-02           Food  3000.0       False\n",
            "4         TRX005  2024-06-02      Transport    45.0       False\n",
            "5         TRX006  2024-06-03      Utilities   135.0       False\n",
            "6         TRX007  2024-06-03           Food    20.0       False\n",
            "No anomalies detected\n"
          ]
        }
      ]
    },
    {
      "cell_type": "code",
      "source": [
        "import numpy as np\n",
        "\n",
        "def detect_anomalies_iqr(row):\n",
        "    category = row['category']\n",
        "    amount = row['amount']\n",
        "    q1 = category_stats.loc[category, 'q1']\n",
        "    q3 = category_stats.loc[category, 'q3']\n",
        "    iqr = q3 - q1  # Calculate IQR\n",
        "    lower_bound = q1 - 1.5 * iqr\n",
        "    upper_bound = q3 + 1.5 * iqr\n",
        "\n",
        "    if amount < lower_bound or amount > upper_bound:\n",
        "        return True\n",
        "    else:\n",
        "        return False\n",
        "\n",
        "category_stats['q1'] = df.groupby('category')['amount'].quantile(0.25)\n",
        "category_stats['q3'] = df.groupby('category')['amount'].quantile(0.75)\n",
        "\n",
        "df['is_anomaly_iqr'] = df.apply(detect_anomalies_iqr, axis=1)\n",
        "\n",
        "anomalies_iqr = df[df['is_anomaly_iqr']]\n",
        "\n",
        "if anomalies_iqr.empty:\n",
        "    print(\"No anomalies detected using IQR\")\n",
        "else:\n",
        "    print(\"Anomalies detected using IQR:\")\n",
        "    print(anomalies_iqr[['transaction_id', 'date', 'category', 'amount']])\n"
      ],
      "metadata": {
        "colab": {
          "base_uri": "https://localhost:8080/"
        },
        "id": "iFQxFyFiRjzI",
        "outputId": "712068cb-3808-4328-dfb7-ad0ab20c3b3f"
      },
      "execution_count": null,
      "outputs": [
        {
          "output_type": "stream",
          "name": "stdout",
          "text": [
            "No anomalies detected using IQR\n"
          ]
        }
      ]
    },
    {
      "cell_type": "code",
      "source": [],
      "metadata": {
        "id": "XlFerp_eG42D"
      },
      "execution_count": null,
      "outputs": []
    }
  ]
}